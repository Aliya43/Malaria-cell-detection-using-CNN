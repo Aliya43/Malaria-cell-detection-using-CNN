{
 "cells": [
  {
   "cell_type": "code",
   "execution_count": 2,
   "id": "6e0dbb0e",
   "metadata": {},
   "outputs": [],
   "source": [
    "import tensorflow.keras as keras\n",
    "from tensorflow.keras.models import Sequential\n",
    "from tensorflow.keras.layers import Dense, Dropout, Flatten\n",
    "from tensorflow.keras.layers import Conv2D, MaxPooling2D, Dropout\n",
    "from tensorflow.keras.layers import BatchNormalization\n",
    "from tensorflow.keras.preprocessing.image import ImageDataGenerator\n",
    "from tensorflow.keras.callbacks import History\n",
    "import matplotlib.pyplot as plt\n",
    "import numpy as np"
   ]
  },
  {
   "cell_type": "code",
   "execution_count": 3,
   "id": "db075ba8",
   "metadata": {},
   "outputs": [],
   "source": [
    "#Data Agumentaion\n",
    "\n",
    "train_data_dir='cell_images/'\n",
    "\n",
    "datagen = ImageDataGenerator(\n",
    "    rescale = 1.0/255,\n",
    "    shear_range=0.2,\n",
    "    zoom_range=0.2,\n",
    "    horizontal_flip = True,\n",
    "    validation_split=0.1\n",
    ")\n",
    "\n",
    "\n",
    "batch_size = 48\n",
    "num_classes = 2\n",
    "image_size = 64"
   ]
  },
  {
   "cell_type": "code",
   "execution_count": 3,
   "id": "e25e3d4a",
   "metadata": {},
   "outputs": [
    {
     "name": "stdout",
     "output_type": "stream",
     "text": [
      "Found 24804 images belonging to 2 classes.\n",
      "Found 2754 images belonging to 2 classes.\n"
     ]
    }
   ],
   "source": [
    "train_generator = datagen.flow_from_directory(\n",
    "    train_data_dir,\n",
    "    target_size = (image_size, image_size),\n",
    "    batch_size = batch_size,\n",
    "    class_mode = 'binary',\n",
    "    subset='training'\n",
    ")\n",
    "\n",
    "dev_generator = datagen.flow_from_directory(\n",
    "    train_data_dir,\n",
    "    target_size = (image_size, image_size),\n",
    "    batch_size = batch_size,\n",
    "    class_mode = 'binary',\n",
    "    subset='validation'\n",
    ")"
   ]
  },
  {
   "cell_type": "code",
   "execution_count": 4,
   "id": "2052876e",
   "metadata": {},
   "outputs": [
    {
     "data": {
      "image/png": "[encoded data removed]",
      "text/plain": [
       "<Figure size 432x288 with 1 Axes>"
      ]
     },
     "metadata": {
      "needs_background": "light"
     },
     "output_type": "display_data"
    }
   ],
   "source": [
    "sample = train_generator.next();\n",
    "plt.imshow(sample[0][0])\n",
    "train_generator.reset()"
   ]
  },
  {
   "cell_type": "code",
   "execution_count": 5,
   "id": "b7a485bb",
   "metadata": {},
   "outputs": [],
   "source": [
    "model = Sequential()\n",
    "model.add(Conv2D(64,(3,3),input_shape=(image_size,image_size,3),activation='relu'))\n",
    "\n",
    "model.add(Conv2D(64,(3,3),input_shape=(image_size,image_size,3),activation='relu'))\n",
    "\n",
    "model.add(MaxPooling2D(pool_size=(2, 2)))\n",
    "model.add(Dropout(0.25))\n",
    "\n",
    "model.add(Conv2D(128,(3,3),input_shape=(image_size,image_size,3),activation='relu'))\n",
    "model.add(MaxPooling2D(pool_size=(2, 2)))\n",
    "model.add(Dropout(0.2))\n",
    "\n",
    "model.add(Conv2D(128,(3,3),input_shape=(image_size,image_size,3),activation='relu'))\n",
    "model.add(MaxPooling2D(pool_size=(2, 2)))\n",
    "model.add(Dropout(0.3))\n",
    "\n",
    "model.add(Flatten())\n",
    "model.add(Dense(64,activation='relu'))\n",
    "model.add(BatchNormalization())\n",
    "model.add(Dropout(0.2))\n",
    "model.add(Dense(1,activation='sigmoid'))\n",
    "\n"
   ]
  },
  {
   "cell_type": "code",
   "execution_count": 6,
   "id": "1e8fbad6",
   "metadata": {},
   "outputs": [],
   "source": [
    "model.compile(loss='binary_crossentropy',\n",
    "              optimizer='rmsprop',\n",
    "              metrics=['accuracy'])\n",
    "\n"
   ]
  },
  {
   "cell_type": "code",
   "execution_count": 7,
   "id": "b8007690",
   "metadata": {},
   "outputs": [
    {
     "name": "stdout",
     "output_type": "stream",
     "text": [
      "Model: \"sequential\"\n",
      "_________________________________________________________________\n",
      "Layer (type)                 Output Shape              Param #   \n",
      "=================================================================\n",
      "conv2d (Conv2D)              (None, 62, 62, 64)        1792      \n",
      "_________________________________________________________________\n",
      "conv2d_1 (Conv2D)            (None, 60, 60, 64)        36928     \n",
      "_________________________________________________________________\n",
      "max_pooling2d (MaxPooling2D) (None, 30, 30, 64)        0         \n",
      "_________________________________________________________________\n",
      "dropout (Dropout)            (None, 30, 30, 64)        0         \n",
      "_________________________________________________________________\n",
      "conv2d_2 (Conv2D)            (None, 28, 28, 128)       73856     \n",
      "_________________________________________________________________\n",
      "max_pooling2d_1 (MaxPooling2 (None, 14, 14, 128)       0         \n",
      "_________________________________________________________________\n",
      "dropout_1 (Dropout)          (None, 14, 14, 128)       0         \n",
      "_________________________________________________________________\n",
      "conv2d_3 (Conv2D)            (None, 12, 12, 128)       147584    \n",
      "_________________________________________________________________\n",
      "max_pooling2d_2 (MaxPooling2 (None, 6, 6, 128)         0         \n",
      "_________________________________________________________________\n",
      "dropout_2 (Dropout)          (None, 6, 6, 128)         0         \n",
      "_________________________________________________________________\n",
      "flatten (Flatten)            (None, 4608)              0         \n",
      "_________________________________________________________________\n",
      "dense (Dense)                (None, 64)                294976    \n",
      "_________________________________________________________________\n",
      "batch_normalization (BatchNo (None, 64)                256       \n",
      "_________________________________________________________________\n",
      "dropout_3 (Dropout)          (None, 64)                0         \n",
      "_________________________________________________________________\n",
      "dense_1 (Dense)              (None, 1)                 65        \n",
      "=================================================================\n",
      "Total params: 555,457\n",
      "Trainable params: 555,329\n",
      "Non-trainable params: 128\n",
      "_________________________________________________________________\n"
     ]
    }
   ],
   "source": [
    "model.summary()"
   ]
  },
  {
   "cell_type": "code",
   "execution_count": 11,
   "id": "bc69a298",
   "metadata": {},
   "outputs": [
    {
     "name": "stdout",
     "output_type": "stream",
     "text": [
      "WARNING:tensorflow:sample_weight modes were coerced from\n",
      "  ...\n",
      "    to  \n",
      "  ['...']\n",
      "WARNING:tensorflow:sample_weight modes were coerced from\n",
      "  ...\n",
      "    to  \n",
      "  ['...']\n",
      "Train for 41 steps, validate for 16 steps\n",
      "Epoch 1/40\n",
      "41/41 [==============================] - 102s 2s/step - loss: 0.1799 - accuracy: 0.9441 - val_loss: 0.2131 - val_accuracy: 0.9271\n",
      "Epoch 2/40\n",
      "41/41 [==============================] - 76s 2s/step - loss: 0.1449 - accuracy: 0.9512 - val_loss: 0.1997 - val_accuracy: 0.9271\n",
      "Epoch 3/40\n",
      "41/41 [==============================] - 63s 2s/step - loss: 0.1490 - accuracy: 0.9522 - val_loss: 0.2203 - val_accuracy: 0.9297\n",
      "Epoch 4/40\n",
      "41/41 [==============================] - 57s 1s/step - loss: 0.1682 - accuracy: 0.9487 - val_loss: 0.3353 - val_accuracy: 0.8971\n",
      "Epoch 5/40\n",
      "41/41 [==============================] - 54s 1s/step - loss: 0.1610 - accuracy: 0.9507 - val_loss: 0.2287 - val_accuracy: 0.9271\n",
      "Epoch 6/40\n",
      "41/41 [==============================] - 44s 1s/step - loss: 0.1529 - accuracy: 0.9568 - val_loss: 0.1945 - val_accuracy: 0.9219\n",
      "Epoch 7/40\n",
      "41/41 [==============================] - 45s 1s/step - loss: 0.1427 - accuracy: 0.9593 - val_loss: 0.2202 - val_accuracy: 0.9284\n",
      "Epoch 8/40\n",
      "41/41 [==============================] - 44s 1s/step - loss: 0.1490 - accuracy: 0.9563 - val_loss: 0.2799 - val_accuracy: 0.9154\n",
      "Epoch 9/40\n",
      "41/41 [==============================] - 44s 1s/step - loss: 0.1569 - accuracy: 0.9533 - val_loss: 0.2565 - val_accuracy: 0.9219\n",
      "Epoch 10/40\n",
      "41/41 [==============================] - 44s 1s/step - loss: 0.1418 - accuracy: 0.9553 - val_loss: 0.2132 - val_accuracy: 0.9245\n",
      "Epoch 11/40\n",
      "41/41 [==============================] - 44s 1s/step - loss: 0.1544 - accuracy: 0.9538 - val_loss: 0.3335 - val_accuracy: 0.8906\n",
      "Epoch 12/40\n",
      "41/41 [==============================] - 43s 1s/step - loss: 0.1460 - accuracy: 0.9548 - val_loss: 0.2293 - val_accuracy: 0.9271\n",
      "Epoch 13/40\n",
      "41/41 [==============================] - 43s 1s/step - loss: 0.1378 - accuracy: 0.9553 - val_loss: 0.2568 - val_accuracy: 0.9206\n",
      "Epoch 14/40\n",
      "41/41 [==============================] - 42s 1s/step - loss: 0.1226 - accuracy: 0.9619 - val_loss: 0.2273 - val_accuracy: 0.9297\n",
      "Epoch 15/40\n",
      "41/41 [==============================] - 40s 988ms/step - loss: 0.1514 - accuracy: 0.9527 - val_loss: 0.2439 - val_accuracy: 0.9284\n",
      "Epoch 16/40\n",
      "41/41 [==============================] - 41s 1s/step - loss: 0.1367 - accuracy: 0.9639 - val_loss: 0.2802 - val_accuracy: 0.9232\n",
      "Epoch 17/40\n",
      "41/41 [==============================] - 41s 1000ms/step - loss: 0.1149 - accuracy: 0.9614 - val_loss: 0.2462 - val_accuracy: 0.9180\n",
      "Epoch 18/40\n",
      "41/41 [==============================] - 54s 1s/step - loss: 0.1371 - accuracy: 0.9568 - val_loss: 0.2291 - val_accuracy: 0.9245\n",
      "Epoch 19/40\n",
      "41/41 [==============================] - 42s 1s/step - loss: 0.1576 - accuracy: 0.9504 - val_loss: 0.2193 - val_accuracy: 0.9206\n",
      "Epoch 20/40\n",
      "41/41 [==============================] - 41s 1s/step - loss: 0.1386 - accuracy: 0.9568 - val_loss: 0.2359 - val_accuracy: 0.9206\n",
      "Epoch 21/40\n",
      "41/41 [==============================] - 44s 1s/step - loss: 0.1704 - accuracy: 0.9482 - val_loss: 0.2073 - val_accuracy: 0.9245\n",
      "Epoch 22/40\n",
      "41/41 [==============================] - 45s 1s/step - loss: 0.1321 - accuracy: 0.9629 - val_loss: 0.2374 - val_accuracy: 0.9180\n",
      "Epoch 23/40\n",
      "41/41 [==============================] - 42s 1s/step - loss: 0.1450 - accuracy: 0.9553 - val_loss: 0.1956 - val_accuracy: 0.9323\n",
      "Epoch 24/40\n",
      "41/41 [==============================] - 45s 1s/step - loss: 0.1330 - accuracy: 0.9578 - val_loss: 0.2271 - val_accuracy: 0.9271\n",
      "Epoch 25/40\n",
      "41/41 [==============================] - 44s 1s/step - loss: 0.1413 - accuracy: 0.9563 - val_loss: 0.3017 - val_accuracy: 0.9193\n",
      "Epoch 26/40\n",
      "41/41 [==============================] - 46s 1s/step - loss: 0.1528 - accuracy: 0.9530 - val_loss: 0.3217 - val_accuracy: 0.9115\n",
      "Epoch 27/40\n",
      "41/41 [==============================] - 51s 1s/step - loss: 0.1408 - accuracy: 0.9548 - val_loss: 0.1899 - val_accuracy: 0.9297\n",
      "Epoch 28/40\n",
      "41/41 [==============================] - 42s 1s/step - loss: 0.1400 - accuracy: 0.9609 - val_loss: 0.3096 - val_accuracy: 0.9258\n",
      "Epoch 29/40\n",
      "41/41 [==============================] - 43s 1s/step - loss: 0.1329 - accuracy: 0.9578 - val_loss: 0.3362 - val_accuracy: 0.8958\n",
      "Epoch 30/40\n",
      "41/41 [==============================] - 41s 991ms/step - loss: 0.1496 - accuracy: 0.9533 - val_loss: 0.2273 - val_accuracy: 0.9310\n",
      "Epoch 31/40\n",
      "41/41 [==============================] - 46s 1s/step - loss: 0.1398 - accuracy: 0.9609 - val_loss: 0.2200 - val_accuracy: 0.9245\n",
      "Epoch 32/40\n",
      "41/41 [==============================] - 41s 1s/step - loss: 0.1264 - accuracy: 0.9599 - val_loss: 0.2264 - val_accuracy: 0.9180\n",
      "Epoch 33/40\n",
      "41/41 [==============================] - 42s 1s/step - loss: 0.1592 - accuracy: 0.9512 - val_loss: 0.2302 - val_accuracy: 0.9102\n",
      "Epoch 34/40\n",
      "41/41 [==============================] - 40s 985ms/step - loss: 0.1309 - accuracy: 0.9599 - val_loss: 0.2502 - val_accuracy: 0.9336\n",
      "Epoch 35/40\n",
      "41/41 [==============================] - 41s 1s/step - loss: 0.1392 - accuracy: 0.9578 - val_loss: 0.2284 - val_accuracy: 0.9297\n",
      "Epoch 36/40\n",
      "41/41 [==============================] - 52s 1s/step - loss: 0.1469 - accuracy: 0.9512 - val_loss: 0.2173 - val_accuracy: 0.9284\n",
      "Epoch 37/40\n",
      "41/41 [==============================] - 43s 1s/step - loss: 0.1383 - accuracy: 0.9583 - val_loss: 0.2416 - val_accuracy: 0.9206\n",
      "Epoch 38/40\n",
      "41/41 [==============================] - 40s 983ms/step - loss: 0.1541 - accuracy: 0.9527 - val_loss: 0.2354 - val_accuracy: 0.9284\n",
      "Epoch 39/40\n",
      "41/41 [==============================] - 48s 1s/step - loss: 0.1365 - accuracy: 0.9614 - val_loss: 0.2320 - val_accuracy: 0.9154\n",
      "Epoch 40/40\n",
      "41/41 [==============================] - 41s 994ms/step - loss: 0.1371 - accuracy: 0.9593 - val_loss: 0.2081 - val_accuracy: 0.9284\n"
     ]
    }
   ],
   "source": [
    "history=model.fit(\n",
    "    train_generator,\n",
    "    steps_per_epoch=2000 // batch_size,\n",
    "    epochs=40,\n",
    "    validation_data=dev_generator,\n",
    "    validation_steps=800 // batch_size)"
   ]
  },
  {
   "cell_type": "code",
   "execution_count": 12,
   "id": "6241d76b",
   "metadata": {},
   "outputs": [
    {
     "data": {
      "text/plain": [
       "[<matplotlib.lines.Line2D at 0x172cd787d68>]"
      ]
     },
     "execution_count": 12,
     "metadata": {},
     "output_type": "execute_result"
    },
    {
     "data": {
      "image/png": "[encoded data removed]",
      "text/plain": [
       "<Figure size 432x288 with 2 Axes>"
      ]
     },
     "metadata": {
      "needs_background": "light"
     },
     "output_type": "display_data"
    }
   ],
   "source": [
    "metrics = history.history\n",
    "\n",
    "plt.subplot(211)\n",
    "\n",
    "plt.plot(metrics['accuracy'],color='blue')\n",
    "plt.plot(metrics['val_accuracy'],color='green')\n",
    "\n",
    "plt.subplot(212)\n",
    "\n",
    "plt.plot(metrics['loss'],color='yellow')\n",
    "plt.plot(metrics['val_loss'],color='red')"
   ]
  },
  {
   "cell_type": "code",
   "execution_count": null,
   "id": "04c3fbc2",
   "metadata": {},
   "outputs": [],
   "source": []
  }
 ],
 "metadata": {
  "kernelspec": {
   "display_name": "Python 3",
   "language": "python",
   "name": "python3"
  },
  "language_info": {
   "codemirror_mode": {
    "name": "ipython",
    "version": 3
   },
   "file_extension": ".py",
   "mimetype": "text/x-python",
   "name": "python",
   "nbconvert_exporter": "python",
   "pygments_lexer": "ipython3",
   "version": "3.6.13"
  }
 },
 "nbformat": 4,
 "nbformat_minor": 5
}
